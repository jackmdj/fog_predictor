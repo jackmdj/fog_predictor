{
 "cells": [
  {
   "cell_type": "code",
   "execution_count": 1,
   "metadata": {},
   "outputs": [],
   "source": [
    "import torch\n",
    "from torchvision import models\n",
    "import torch.nn as nn\n",
    "from getData import read_data"
   ]
  },
  {
   "cell_type": "code",
   "execution_count": 2,
   "metadata": {},
   "outputs": [
    {
     "data": {
      "text/plain": [
       "ResNet(\n",
       "  (conv1): Conv2d(3, 64, kernel_size=(7, 7), stride=(2, 2), padding=(3, 3), bias=False)\n",
       "  (bn1): BatchNorm2d(64, eps=1e-05, momentum=0.1, affine=True, track_running_stats=True)\n",
       "  (relu): ReLU(inplace=True)\n",
       "  (maxpool): MaxPool2d(kernel_size=3, stride=2, padding=1, dilation=1, ceil_mode=False)\n",
       "  (layer1): Sequential(\n",
       "    (0): BasicBlock(\n",
       "      (conv1): Conv2d(64, 64, kernel_size=(3, 3), stride=(1, 1), padding=(1, 1), bias=False)\n",
       "      (bn1): BatchNorm2d(64, eps=1e-05, momentum=0.1, affine=True, track_running_stats=True)\n",
       "      (relu): ReLU(inplace=True)\n",
       "      (conv2): Conv2d(64, 64, kernel_size=(3, 3), stride=(1, 1), padding=(1, 1), bias=False)\n",
       "      (bn2): BatchNorm2d(64, eps=1e-05, momentum=0.1, affine=True, track_running_stats=True)\n",
       "    )\n",
       "    (1): BasicBlock(\n",
       "      (conv1): Conv2d(64, 64, kernel_size=(3, 3), stride=(1, 1), padding=(1, 1), bias=False)\n",
       "      (bn1): BatchNorm2d(64, eps=1e-05, momentum=0.1, affine=True, track_running_stats=True)\n",
       "      (relu): ReLU(inplace=True)\n",
       "      (conv2): Conv2d(64, 64, kernel_size=(3, 3), stride=(1, 1), padding=(1, 1), bias=False)\n",
       "      (bn2): BatchNorm2d(64, eps=1e-05, momentum=0.1, affine=True, track_running_stats=True)\n",
       "    )\n",
       "  )\n",
       "  (layer2): Sequential(\n",
       "    (0): BasicBlock(\n",
       "      (conv1): Conv2d(64, 128, kernel_size=(3, 3), stride=(2, 2), padding=(1, 1), bias=False)\n",
       "      (bn1): BatchNorm2d(128, eps=1e-05, momentum=0.1, affine=True, track_running_stats=True)\n",
       "      (relu): ReLU(inplace=True)\n",
       "      (conv2): Conv2d(128, 128, kernel_size=(3, 3), stride=(1, 1), padding=(1, 1), bias=False)\n",
       "      (bn2): BatchNorm2d(128, eps=1e-05, momentum=0.1, affine=True, track_running_stats=True)\n",
       "      (downsample): Sequential(\n",
       "        (0): Conv2d(64, 128, kernel_size=(1, 1), stride=(2, 2), bias=False)\n",
       "        (1): BatchNorm2d(128, eps=1e-05, momentum=0.1, affine=True, track_running_stats=True)\n",
       "      )\n",
       "    )\n",
       "    (1): BasicBlock(\n",
       "      (conv1): Conv2d(128, 128, kernel_size=(3, 3), stride=(1, 1), padding=(1, 1), bias=False)\n",
       "      (bn1): BatchNorm2d(128, eps=1e-05, momentum=0.1, affine=True, track_running_stats=True)\n",
       "      (relu): ReLU(inplace=True)\n",
       "      (conv2): Conv2d(128, 128, kernel_size=(3, 3), stride=(1, 1), padding=(1, 1), bias=False)\n",
       "      (bn2): BatchNorm2d(128, eps=1e-05, momentum=0.1, affine=True, track_running_stats=True)\n",
       "    )\n",
       "  )\n",
       "  (layer3): Sequential(\n",
       "    (0): BasicBlock(\n",
       "      (conv1): Conv2d(128, 256, kernel_size=(3, 3), stride=(2, 2), padding=(1, 1), bias=False)\n",
       "      (bn1): BatchNorm2d(256, eps=1e-05, momentum=0.1, affine=True, track_running_stats=True)\n",
       "      (relu): ReLU(inplace=True)\n",
       "      (conv2): Conv2d(256, 256, kernel_size=(3, 3), stride=(1, 1), padding=(1, 1), bias=False)\n",
       "      (bn2): BatchNorm2d(256, eps=1e-05, momentum=0.1, affine=True, track_running_stats=True)\n",
       "      (downsample): Sequential(\n",
       "        (0): Conv2d(128, 256, kernel_size=(1, 1), stride=(2, 2), bias=False)\n",
       "        (1): BatchNorm2d(256, eps=1e-05, momentum=0.1, affine=True, track_running_stats=True)\n",
       "      )\n",
       "    )\n",
       "    (1): BasicBlock(\n",
       "      (conv1): Conv2d(256, 256, kernel_size=(3, 3), stride=(1, 1), padding=(1, 1), bias=False)\n",
       "      (bn1): BatchNorm2d(256, eps=1e-05, momentum=0.1, affine=True, track_running_stats=True)\n",
       "      (relu): ReLU(inplace=True)\n",
       "      (conv2): Conv2d(256, 256, kernel_size=(3, 3), stride=(1, 1), padding=(1, 1), bias=False)\n",
       "      (bn2): BatchNorm2d(256, eps=1e-05, momentum=0.1, affine=True, track_running_stats=True)\n",
       "    )\n",
       "  )\n",
       "  (layer4): Sequential(\n",
       "    (0): BasicBlock(\n",
       "      (conv1): Conv2d(256, 512, kernel_size=(3, 3), stride=(2, 2), padding=(1, 1), bias=False)\n",
       "      (bn1): BatchNorm2d(512, eps=1e-05, momentum=0.1, affine=True, track_running_stats=True)\n",
       "      (relu): ReLU(inplace=True)\n",
       "      (conv2): Conv2d(512, 512, kernel_size=(3, 3), stride=(1, 1), padding=(1, 1), bias=False)\n",
       "      (bn2): BatchNorm2d(512, eps=1e-05, momentum=0.1, affine=True, track_running_stats=True)\n",
       "      (downsample): Sequential(\n",
       "        (0): Conv2d(256, 512, kernel_size=(1, 1), stride=(2, 2), bias=False)\n",
       "        (1): BatchNorm2d(512, eps=1e-05, momentum=0.1, affine=True, track_running_stats=True)\n",
       "      )\n",
       "    )\n",
       "    (1): BasicBlock(\n",
       "      (conv1): Conv2d(512, 512, kernel_size=(3, 3), stride=(1, 1), padding=(1, 1), bias=False)\n",
       "      (bn1): BatchNorm2d(512, eps=1e-05, momentum=0.1, affine=True, track_running_stats=True)\n",
       "      (relu): ReLU(inplace=True)\n",
       "      (conv2): Conv2d(512, 512, kernel_size=(3, 3), stride=(1, 1), padding=(1, 1), bias=False)\n",
       "      (bn2): BatchNorm2d(512, eps=1e-05, momentum=0.1, affine=True, track_running_stats=True)\n",
       "    )\n",
       "  )\n",
       "  (avgpool): AdaptiveAvgPool2d(output_size=(1, 1))\n",
       "  (fc): Linear(in_features=512, out_features=2, bias=True)\n",
       ")"
      ]
     },
     "execution_count": 2,
     "metadata": {},
     "output_type": "execute_result"
    }
   ],
   "source": [
    "# Define MLP model\n",
    "class MLP(nn.Module):\n",
    "    def __init__(self):\n",
    "        super(MLP, self).__init__()\n",
    "        self.layers = nn.Sequential(\n",
    "            nn.Linear(4, 10),  # 4 features to 10 hidden nodes\n",
    "            nn.ReLU(),\n",
    "            nn.Linear(10, 1),\n",
    "            nn.Sigmoid()  # Output a single probability for binary classification\n",
    "        )\n",
    "    \n",
    "    def forward(self, x):\n",
    "        return self.layers(x)\n",
    "    \n",
    "# Load the models\n",
    "mlp_model = MLP()\n",
    "mlp_model.load_state_dict(torch.load('mlp_model.pth'))\n",
    "mlp_model.eval()\n",
    "\n",
    "image_model = models.resnet18(weights='ResNet18_Weights.DEFAULT')\n",
    "num_ftrs = image_model.fc.in_features\n",
    "image_model.fc = nn.Linear(num_ftrs, 2)\n",
    "image_model.load_state_dict(torch.load('image_model.pth'))\n",
    "image_model.eval()"
   ]
  },
  {
   "cell_type": "code",
   "execution_count": 3,
   "metadata": {},
   "outputs": [
    {
     "name": "stdout",
     "output_type": "stream",
     "text": [
      "Data has been written to CSV.\n",
      "Image downloaded successfully and saved as c:\\Users\\jackm\\Desktop\\projects\\fog_predictor\\Images\\Prediction\\train\\2024-05-28_15-53-24.jpg!\n"
     ]
    }
   ],
   "source": [
    "image, stats = read_data()"
   ]
  },
  {
   "cell_type": "code",
   "execution_count": 7,
   "metadata": {},
   "outputs": [
    {
     "name": "stdout",
     "output_type": "stream",
     "text": [
      "tensor([[[-0.3994, -0.3835, -0.3675,  ..., -1.3064, -1.3701, -1.4337],\n",
      "         [-0.3835, -0.3675, -0.3516,  ..., -1.2905, -1.3701, -1.4337],\n",
      "         [-0.0334,  0.0462,  0.1099,  ..., -1.2905, -1.3860, -1.4178],\n",
      "         ...,\n",
      "         [-1.7202, -1.7679, -1.8316,  ..., -2.1658, -2.1817, -2.1976],\n",
      "         [-1.9111, -1.9111, -1.9111,  ..., -2.1658, -2.2294, -2.2453],\n",
      "         [-1.9589, -1.9271, -1.8793,  ..., -2.1817, -2.2453, -2.2612]],\n",
      "\n",
      "        [[-0.2342, -0.2021, -0.2021,  ..., -1.3735, -1.4056, -1.4537],\n",
      "         [-0.2342, -0.2181, -0.2021,  ..., -1.3735, -1.4056, -1.4537],\n",
      "         [ 0.0707,  0.1509,  0.2312,  ..., -1.3735, -1.4216, -1.4376],\n",
      "         ...,\n",
      "         [-1.8228, -1.8548, -1.9511,  ..., -2.2721, -2.2881, -2.3041],\n",
      "         [-1.9993, -2.0153, -2.0153,  ..., -2.2881, -2.2881, -2.3041],\n",
      "         [-2.0474, -2.0153, -1.8869,  ..., -2.3041, -2.2881, -2.3041]],\n",
      "\n",
      "        [[ 0.2153,  0.2308,  0.2463,  ..., -1.4576, -1.4576, -1.5040],\n",
      "         [ 0.2308,  0.2463,  0.2463,  ..., -1.4421, -1.4576, -1.5040],\n",
      "         [ 0.4167,  0.4787,  0.4942,  ..., -1.4421, -1.4731, -1.4885],\n",
      "         ...,\n",
      "         [-1.7364, -1.7828, -1.8758,  ..., -2.2011, -2.2166, -2.2321],\n",
      "         [-1.9068, -1.9223, -1.9223,  ..., -2.2166, -2.2321, -2.2475],\n",
      "         [-1.9532, -1.9223, -1.8293,  ..., -2.2321, -2.2321, -2.2475]]])\n"
     ]
    }
   ],
   "source": [
    "print(image)"
   ]
  },
  {
   "cell_type": "code",
   "execution_count": 5,
   "metadata": {},
   "outputs": [],
   "source": [
    "def predict_mlp(stats):\n",
    "    # Read the most recent data entry\n",
    "    data = stats\n",
    "    \n",
    "    # Make prediction\n",
    "    with torch.no_grad():\n",
    "        prediction = mlp_model(data)\n",
    "    \n",
    "    # Interpret the result\n",
    "    probability = prediction.item()\n",
    "    result = \"Fog\" if probability >= 0.5 else \"No Fog\"\n",
    "    probability_percent = probability * 100  # Convert to percentage\n",
    "    \n",
    "    return {\"probability\": f\"{probability_percent:.4f}%\", \"prediction\": result}"
   ]
  },
  {
   "cell_type": "code",
   "execution_count": 6,
   "metadata": {},
   "outputs": [
    {
     "data": {
      "text/plain": [
       "{'probability': '15.4355%', 'prediction': 'No Fog'}"
      ]
     },
     "execution_count": 6,
     "metadata": {},
     "output_type": "execute_result"
    }
   ],
   "source": [
    "predict_mlp(stats)"
   ]
  },
  {
   "cell_type": "code",
   "execution_count": 23,
   "metadata": {},
   "outputs": [
    {
     "data": {
      "text/plain": [
       "{'probability': '94.1582%', 'prediction': 'Fog'}"
      ]
     },
     "execution_count": 23,
     "metadata": {},
     "output_type": "execute_result"
    }
   ],
   "source": [
    "tensor1 = torch.tensor([52.0000, 100.0000, 51.5000, 2.0000])\n",
    "tensor2 = torch.tensor([50.0000, 100.0000, 50.0000, 2.0000])\n",
    "tensor3 = torch.tensor([51.0000, 100.0000, 49.5000, 2.0000])\n",
    "tensor4 = torch.tensor([51.0000, 95.0000, 49.5000, 2.0000])\n",
    "#predict_mlp(tensor1)\n",
    "#predict_mlp(tensor2)\n",
    "#predict_mlp(tensor3)\n",
    "predict_mlp(tensor4)"
   ]
  },
  {
   "cell_type": "code",
   "execution_count": 7,
   "metadata": {},
   "outputs": [],
   "source": [
    "def predict_image(image):\n",
    "    image = image.unsqueeze(0)\n",
    "    with torch.no_grad():\n",
    "        output = image_model(image)\n",
    "    \n",
    "    # Get the predicted class probabilities\n",
    "    probabilities = torch.softmax(output, dim=1)\n",
    "    \n",
    "    # Get the predicted class (0 or 1 for binary classification)\n",
    "    predicted_class = probabilities.argmax(dim=1).item()\n",
    "    \n",
    "    # Get the probability of the predicted class\n",
    "    probability = probabilities[0, predicted_class].item()\n",
    "    result = \"No Fog\" if predicted_class == 1 else \"Fog\"\n",
    "    probability_percent = probability * 100  # Convert to percentage\n",
    "    \n",
    "    \n",
    "    return {\"probability\": f\"{probability_percent:.4f}%\", \"prediction\": result}"
   ]
  },
  {
   "cell_type": "code",
   "execution_count": 8,
   "metadata": {},
   "outputs": [
    {
     "data": {
      "text/plain": [
       "{'probability': '98.5160%', 'prediction': 'No Fog'}"
      ]
     },
     "execution_count": 8,
     "metadata": {},
     "output_type": "execute_result"
    }
   ],
   "source": [
    "predict_image(image)"
   ]
  }
 ],
 "metadata": {
  "kernelspec": {
   "display_name": "Python 3",
   "language": "python",
   "name": "python3"
  },
  "language_info": {
   "codemirror_mode": {
    "name": "ipython",
    "version": 3
   },
   "file_extension": ".py",
   "mimetype": "text/x-python",
   "name": "python",
   "nbconvert_exporter": "python",
   "pygments_lexer": "ipython3",
   "version": "3.12.3"
  }
 },
 "nbformat": 4,
 "nbformat_minor": 2
}
