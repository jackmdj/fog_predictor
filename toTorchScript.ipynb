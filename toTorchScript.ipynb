{
 "cells": [
  {
   "cell_type": "code",
   "execution_count": 2,
   "metadata": {},
   "outputs": [
    {
     "name": "stdout",
     "output_type": "stream",
     "text": [
      "WARNING:tensorflow:From c:\\Users\\jackm\\AppData\\Local\\Programs\\Python\\Python312\\Lib\\site-packages\\tf2onnx\\tf_loader.py:68: The name tf.reset_default_graph is deprecated. Please use tf.compat.v1.reset_default_graph instead.\n",
      "\n",
      "WARNING:tensorflow:From c:\\Users\\jackm\\AppData\\Local\\Programs\\Python\\Python312\\Lib\\site-packages\\tf2onnx\\tf_loader.py:72: The name tf.train.import_meta_graph is deprecated. Please use tf.compat.v1.train.import_meta_graph instead.\n",
      "\n"
     ]
    }
   ],
   "source": [
    "import torch\n",
    "import torch.onnx\n",
    "import torch\n",
    "from torchvision import models\n",
    "import torch.nn as nn\n",
    "import onnx\n",
    "import tf2onnx\n",
    "from getData import read_data"
   ]
  },
  {
   "cell_type": "code",
   "execution_count": 3,
   "metadata": {},
   "outputs": [],
   "source": [
    "# Define MLP model\n",
    "class MLP(nn.Module):\n",
    "    def __init__(self):\n",
    "        super(MLP, self).__init__()\n",
    "        self.layers = nn.Sequential(\n",
    "            nn.Linear(4, 10),  # 4 features to 10 hidden nodes\n",
    "            nn.ReLU(),\n",
    "            nn.Linear(10, 1),\n",
    "            nn.Sigmoid()  # Output a single probability for binary classification\n",
    "        )\n",
    "    \n",
    "    def forward(self, x):\n",
    "        return self.layers(x)\n",
    "    \n",
    "# Load the models\n",
    "mlp_model = MLP()\n",
    "mlp_model.load_state_dict(torch.load('mlp_model.pth'))\n",
    "mlp_model.eval()\n",
    "\n",
    "# Create dummy input for the model (example: for an image model)\n",
    "dummy_input = torch.tensor([52.0000, 100.0000, 51.5000, 2.0000]) \n",
    "\n",
    "# Export the model to ONNX\n",
    "torch.onnx.export(mlp_model, dummy_input, \"mlp_model.onnx\", verbose=True)\n"
   ]
  },
  {
   "cell_type": "code",
   "execution_count": 4,
   "metadata": {},
   "outputs": [],
   "source": [
    "image_model = models.resnet18(weights='ResNet18_Weights.DEFAULT')\n",
    "num_ftrs = image_model.fc.in_features\n",
    "image_model.fc = nn.Linear(num_ftrs, 2)\n",
    "image_model.load_state_dict(torch.load('image_model.pth'))\n",
    "image_model.eval()\n",
    "\n",
    "# Convert the model to TorchScript\n",
    "scripted_model = torch.jit.script(image_model)\n",
    "\n",
    "# Save the TorchScript model\n",
    "scripted_model.save(\"image_model_scripted.pt\")"
   ]
  },
  {
   "cell_type": "code",
   "execution_count": 5,
   "metadata": {},
   "outputs": [],
   "source": [
    "# Convert the model to TorchScript\n",
    "scripted_image_model = torch.jit.script(image_model)\n",
    "\n",
    "# Save the TorchScript model\n",
    "scripted_image_model.save(\"image_model_scripted.pt\")\n"
   ]
  },
  {
   "cell_type": "code",
   "execution_count": 6,
   "metadata": {},
   "outputs": [],
   "source": [
    "# Convert the model to TorchScript\n",
    "scripted_mlp_model = torch.jit.script(image_model)\n",
    "\n",
    "# Save the TorchScript model\n",
    "scripted_mlp_model.save(\"mlp_model_scripted.pt\")"
   ]
  }
 ],
 "metadata": {
  "kernelspec": {
   "display_name": "Python 3",
   "language": "python",
   "name": "python3"
  },
  "language_info": {
   "codemirror_mode": {
    "name": "ipython",
    "version": 3
   },
   "file_extension": ".py",
   "mimetype": "text/x-python",
   "name": "python",
   "nbconvert_exporter": "python",
   "pygments_lexer": "ipython3",
   "version": "3.12.3"
  }
 },
 "nbformat": 4,
 "nbformat_minor": 2
}
