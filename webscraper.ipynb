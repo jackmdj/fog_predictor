{
 "cells": [
  {
   "cell_type": "code",
   "execution_count": 1,
   "metadata": {},
   "outputs": [],
   "source": [
    "import requests\n",
    "from datetime import datetime\n",
    "import os\n",
    "import time\n",
    "from bs4 import BeautifulSoup\n",
    "import re\n",
    "import csv\n",
    "import schedule"
   ]
  },
  {
   "cell_type": "code",
   "execution_count": 6,
   "metadata": {},
   "outputs": [],
   "source": [
    "def download_image(x_times):\n",
    "    headers = {\n",
    "        'User-Agent': 'Mozilla/5.0 (Windows NT 10.0; Win64; x64; rv:98.0) Gecko/20100101 Firefox/98.0'\n",
    "    }\n",
    "    image_url = 'https://www.805webcams.com/cameras/cachumalake/camera.jpg'\n",
    "    base_dir = 'C:\\\\Users\\\\jackm\\\\Desktop\\\\projects\\\\fog_predictor\\\\Images'\n",
    "    \n",
    "    for i in range(x_times):\n",
    "        try:\n",
    "            image_response = requests.get(image_url, headers=headers, stream=True)\n",
    "            if image_response.status_code == 200:\n",
    "                current_time = datetime.now().strftime(\"%Y-%m-%d_%H-%M-%S\")\n",
    "                filename = f\"{current_time}.jpg\"\n",
    "                full_path = os.path.join(base_dir, filename)\n",
    "                \n",
    "                with open(full_path, 'wb') as f:\n",
    "                    for chunk in image_response:\n",
    "                        f.write(chunk)\n",
    "                print(f\"Image downloaded successfully and saved as {full_path}!\")\n",
    "            else:\n",
    "                print(f\"Failed to download the image. Status code: {image_response.status_code}\")\n",
    "            if x_times > 1:\n",
    "                time.sleep(300)  # Delays for 5 minutes\n",
    "        except requests.exceptions.RequestException as e:\n",
    "            print(f\"An error occurred: {e}\")\n",
    "\n"
   ]
  },
  {
   "cell_type": "code",
   "execution_count": 3,
   "metadata": {},
   "outputs": [
    {
     "name": "stdout",
     "output_type": "stream",
     "text": [
      "Image downloaded successfully and saved as C:\\Users\\jackm\\Desktop\\projects\\fog_predictor\\Images\\2024-05-13_05-21-27.jpg!\n"
     ]
    }
   ],
   "source": [
    "download_image(1)  # Adjust the number as needed"
   ]
  },
  {
   "cell_type": "code",
   "execution_count": 4,
   "metadata": {},
   "outputs": [],
   "source": [
    "def scrape_weather_info():\n",
    "    url = 'https://www.localconditions.com/weather-lake-cachuma-california/93464/'\n",
    "    headers = {\n",
    "        'User-Agent': 'Mozilla/5.0 (Windows NT 10.0; Win64; x64; rv:98.0) Gecko/20100101 Firefox/98.0'\n",
    "    }\n",
    "\n",
    "    try:\n",
    "        response = requests.get(url, headers=headers)\n",
    "        if response.status_code == 200:\n",
    "            # Parse the HTML content of the page\n",
    "            soup = BeautifulSoup(response.text, 'html.parser')\n",
    "                \n",
    "            # Find the element by ID\n",
    "            weather_text_element = soup.find(id='readLCWXtxt')\n",
    "            if weather_text_element:\n",
    "                return weather_text_element.get_text(strip=True)\n",
    "            else:\n",
    "                print(\"Weather information element not found.\")\n",
    "        else:\n",
    "            print(f\"Failed to retrieve the webpage. Status code: {response.status_code}\")\n",
    "    except requests.exceptions.RequestException as e:\n",
    "        print(f\"An error occurred: {e}\")\n"
   ]
  },
  {
   "cell_type": "code",
   "execution_count": 5,
   "metadata": {},
   "outputs": [],
   "source": [
    "def write_to_csv(data, filename='weather_data.csv'):\n",
    "    fieldnames = ['Observation Time', 'Temperature', 'Humidity', 'Dew Point', 'Trend', 'Fog']\n",
    "    \n",
    "    # Check if file exists to determine if we need to write headers\n",
    "    try:\n",
    "        with open(filename, 'x', newline='') as file:\n",
    "            writer = csv.DictWriter(file, fieldnames=fieldnames)\n",
    "            writer.writeheader()\n",
    "            writer.writerow(dict(zip(fieldnames, data)))\n",
    "    except FileExistsError:\n",
    "        with open(filename, 'a', newline='') as file:\n",
    "            writer = csv.DictWriter(file, fieldnames=fieldnames)\n",
    "            writer.writerow(dict(zip(fieldnames, data)))"
   ]
  },
  {
   "cell_type": "code",
   "execution_count": 6,
   "metadata": {},
   "outputs": [],
   "source": [
    "def parse_weather_report(text):\n",
    "    # Regular expressions to find relevant data and observation time\n",
    "    temperature_pattern = r\"It is (\\d+) degrees fahrenheit\"\n",
    "    humidity_pattern = r\"humidity is (\\d+\\.?\\d*) percent\"\n",
    "    dew_point_pattern = r\"dew point of (\\d+\\.?\\d*) degrees fahrenheit\"\n",
    "    trend_pattern = r\"that is (\\w+) since the last report\"\n",
    "    \n",
    "    # Extract data using regular expressions\n",
    "    temperature = re.search(temperature_pattern, text)\n",
    "    humidity = re.search(humidity_pattern, text)\n",
    "    dew_point = re.search(dew_point_pattern, text)\n",
    "    trend = re.search(trend_pattern, text)\n",
    "    \n",
    "    # Record time and date of observation\n",
    "    observation_time = datetime.now().strftime(\"%Y-%m-%d %H:%M:%S\")\n",
    "    \n",
    "    # Create a list to store the data\n",
    "    data = [observation_time]\n",
    "\n",
    "    data.append(temperature.group(1) + ' °F')\n",
    "    data.append(humidity.group(1) + ' %')\n",
    "    data.append(dew_point.group(1) + ' °F')\n",
    "    data.append(trend.group(1))\n",
    "\n",
    "    # Add an empty column for 'Fog' as a binary\n",
    "    data.append('')  # Empty string for manual update\n",
    "    \n",
    "    return data\n",
    "\n",
    "\n"
   ]
  },
  {
   "cell_type": "code",
   "execution_count": 7,
   "metadata": {},
   "outputs": [],
   "source": [
    "def WeatherScript(x_times):\n",
    "    for i in range(x_times):\n",
    "        parsed_data=parse_weather_report(scrape_weather_info())\n",
    "        write_to_csv(parsed_data)\n",
    "        print(\"Data has been written to CSV.\")\n",
    "        if x_times > 1:\n",
    "            time.sleep(300)  # Delays for 5 minutes"
   ]
  },
  {
   "cell_type": "code",
   "execution_count": 2,
   "metadata": {},
   "outputs": [],
   "source": [
    "def getData(x_times): # 24 for 2 hours\n",
    "    for i in range(x_times):\n",
    "        WeatherScript(1)\n",
    "        download_image(1)\n",
    "        if x_times > 1:\n",
    "            time.sleep(60)"
   ]
  },
  {
   "cell_type": "code",
   "execution_count": 4,
   "metadata": {},
   "outputs": [],
   "source": [
    "def run_at_time():\n",
    "    print(f\"Schedule started at {datetime.now().strftime('%Y-%m-%d %H:%M:%S')}\")\n",
    "    # Schedule getData to start at 4:45 AM with 24 cycles (adjust as needed)\n",
    "    schedule.every().day.at(\"04:45\").do(getData, x_times=45)\n",
    "    while True:\n",
    "        schedule.run_pending()\n",
    "        time.sleep(60)  # Check every minute for scheduled tasks"
   ]
  },
  {
   "cell_type": "code",
   "execution_count": 5,
   "metadata": {},
   "outputs": [
    {
     "name": "stdout",
     "output_type": "stream",
     "text": [
      "Schedule started at 2024-05-13 21:06:20\n"
     ]
    },
    {
     "ename": "NameError",
     "evalue": "name 'WeatherScript' is not defined",
     "output_type": "error",
     "traceback": [
      "\u001b[1;31m---------------------------------------------------------------------------\u001b[0m",
      "\u001b[1;31mNameError\u001b[0m                                 Traceback (most recent call last)",
      "Cell \u001b[1;32mIn[5], line 1\u001b[0m\n\u001b[1;32m----> 1\u001b[0m \u001b[43mrun_at_time\u001b[49m\u001b[43m(\u001b[49m\u001b[43m)\u001b[49m\n",
      "Cell \u001b[1;32mIn[4], line 6\u001b[0m, in \u001b[0;36mrun_at_time\u001b[1;34m()\u001b[0m\n\u001b[0;32m      4\u001b[0m schedule\u001b[38;5;241m.\u001b[39mevery()\u001b[38;5;241m.\u001b[39mday\u001b[38;5;241m.\u001b[39mat(\u001b[38;5;124m\"\u001b[39m\u001b[38;5;124m04:45\u001b[39m\u001b[38;5;124m\"\u001b[39m)\u001b[38;5;241m.\u001b[39mdo(getData, x_times\u001b[38;5;241m=\u001b[39m\u001b[38;5;241m45\u001b[39m)\n\u001b[0;32m      5\u001b[0m \u001b[38;5;28;01mwhile\u001b[39;00m \u001b[38;5;28;01mTrue\u001b[39;00m:\n\u001b[1;32m----> 6\u001b[0m     \u001b[43mschedule\u001b[49m\u001b[38;5;241;43m.\u001b[39;49m\u001b[43mrun_pending\u001b[49m\u001b[43m(\u001b[49m\u001b[43m)\u001b[49m\n\u001b[0;32m      7\u001b[0m     time\u001b[38;5;241m.\u001b[39msleep(\u001b[38;5;241m60\u001b[39m)\n",
      "File \u001b[1;32mc:\\Users\\jackm\\AppData\\Local\\Programs\\Python\\Python312\\Lib\\site-packages\\schedule\\__init__.py:822\u001b[0m, in \u001b[0;36mrun_pending\u001b[1;34m()\u001b[0m\n\u001b[0;32m    818\u001b[0m \u001b[38;5;28;01mdef\u001b[39;00m \u001b[38;5;21mrun_pending\u001b[39m() \u001b[38;5;241m-\u001b[39m\u001b[38;5;241m>\u001b[39m \u001b[38;5;28;01mNone\u001b[39;00m:\n\u001b[0;32m    819\u001b[0m \u001b[38;5;250m    \u001b[39m\u001b[38;5;124;03m\"\"\"Calls :meth:`run_pending <Scheduler.run_pending>` on the\u001b[39;00m\n\u001b[0;32m    820\u001b[0m \u001b[38;5;124;03m    :data:`default scheduler instance <default_scheduler>`.\u001b[39;00m\n\u001b[0;32m    821\u001b[0m \u001b[38;5;124;03m    \"\"\"\u001b[39;00m\n\u001b[1;32m--> 822\u001b[0m     \u001b[43mdefault_scheduler\u001b[49m\u001b[38;5;241;43m.\u001b[39;49m\u001b[43mrun_pending\u001b[49m\u001b[43m(\u001b[49m\u001b[43m)\u001b[49m\n",
      "File \u001b[1;32mc:\\Users\\jackm\\AppData\\Local\\Programs\\Python\\Python312\\Lib\\site-packages\\schedule\\__init__.py:100\u001b[0m, in \u001b[0;36mScheduler.run_pending\u001b[1;34m(self)\u001b[0m\n\u001b[0;32m     98\u001b[0m runnable_jobs \u001b[38;5;241m=\u001b[39m (job \u001b[38;5;28;01mfor\u001b[39;00m job \u001b[38;5;129;01min\u001b[39;00m \u001b[38;5;28mself\u001b[39m\u001b[38;5;241m.\u001b[39mjobs \u001b[38;5;28;01mif\u001b[39;00m job\u001b[38;5;241m.\u001b[39mshould_run)\n\u001b[0;32m     99\u001b[0m \u001b[38;5;28;01mfor\u001b[39;00m job \u001b[38;5;129;01min\u001b[39;00m \u001b[38;5;28msorted\u001b[39m(runnable_jobs):\n\u001b[1;32m--> 100\u001b[0m     \u001b[38;5;28;43mself\u001b[39;49m\u001b[38;5;241;43m.\u001b[39;49m\u001b[43m_run_job\u001b[49m\u001b[43m(\u001b[49m\u001b[43mjob\u001b[49m\u001b[43m)\u001b[49m\n",
      "File \u001b[1;32mc:\\Users\\jackm\\AppData\\Local\\Programs\\Python\\Python312\\Lib\\site-packages\\schedule\\__init__.py:172\u001b[0m, in \u001b[0;36mScheduler._run_job\u001b[1;34m(self, job)\u001b[0m\n\u001b[0;32m    171\u001b[0m \u001b[38;5;28;01mdef\u001b[39;00m \u001b[38;5;21m_run_job\u001b[39m(\u001b[38;5;28mself\u001b[39m, job: \u001b[38;5;124m\"\u001b[39m\u001b[38;5;124mJob\u001b[39m\u001b[38;5;124m\"\u001b[39m) \u001b[38;5;241m-\u001b[39m\u001b[38;5;241m>\u001b[39m \u001b[38;5;28;01mNone\u001b[39;00m:\n\u001b[1;32m--> 172\u001b[0m     ret \u001b[38;5;241m=\u001b[39m \u001b[43mjob\u001b[49m\u001b[38;5;241;43m.\u001b[39;49m\u001b[43mrun\u001b[49m\u001b[43m(\u001b[49m\u001b[43m)\u001b[49m\n\u001b[0;32m    173\u001b[0m     \u001b[38;5;28;01mif\u001b[39;00m \u001b[38;5;28misinstance\u001b[39m(ret, CancelJob) \u001b[38;5;129;01mor\u001b[39;00m ret \u001b[38;5;129;01mis\u001b[39;00m CancelJob:\n\u001b[0;32m    174\u001b[0m         \u001b[38;5;28mself\u001b[39m\u001b[38;5;241m.\u001b[39mcancel_job(job)\n",
      "File \u001b[1;32mc:\\Users\\jackm\\AppData\\Local\\Programs\\Python\\Python312\\Lib\\site-packages\\schedule\\__init__.py:693\u001b[0m, in \u001b[0;36mJob.run\u001b[1;34m(self)\u001b[0m\n\u001b[0;32m    690\u001b[0m     \u001b[38;5;28;01mreturn\u001b[39;00m CancelJob\n\u001b[0;32m    692\u001b[0m logger\u001b[38;5;241m.\u001b[39mdebug(\u001b[38;5;124m\"\u001b[39m\u001b[38;5;124mRunning job \u001b[39m\u001b[38;5;132;01m%s\u001b[39;00m\u001b[38;5;124m\"\u001b[39m, \u001b[38;5;28mself\u001b[39m)\n\u001b[1;32m--> 693\u001b[0m ret \u001b[38;5;241m=\u001b[39m \u001b[38;5;28;43mself\u001b[39;49m\u001b[38;5;241;43m.\u001b[39;49m\u001b[43mjob_func\u001b[49m\u001b[43m(\u001b[49m\u001b[43m)\u001b[49m\n\u001b[0;32m    694\u001b[0m \u001b[38;5;28mself\u001b[39m\u001b[38;5;241m.\u001b[39mlast_run \u001b[38;5;241m=\u001b[39m datetime\u001b[38;5;241m.\u001b[39mdatetime\u001b[38;5;241m.\u001b[39mnow()\n\u001b[0;32m    695\u001b[0m \u001b[38;5;28mself\u001b[39m\u001b[38;5;241m.\u001b[39m_schedule_next_run()\n",
      "Cell \u001b[1;32mIn[2], line 3\u001b[0m, in \u001b[0;36mgetData\u001b[1;34m(x_times)\u001b[0m\n\u001b[0;32m      1\u001b[0m \u001b[38;5;28;01mdef\u001b[39;00m \u001b[38;5;21mgetData\u001b[39m(x_times): \u001b[38;5;66;03m# 24 for 2 hours\u001b[39;00m\n\u001b[0;32m      2\u001b[0m     \u001b[38;5;28;01mfor\u001b[39;00m i \u001b[38;5;129;01min\u001b[39;00m \u001b[38;5;28mrange\u001b[39m(x_times):\n\u001b[1;32m----> 3\u001b[0m         \u001b[43mWeatherScript\u001b[49m(\u001b[38;5;241m1\u001b[39m)\n\u001b[0;32m      4\u001b[0m         download_image(\u001b[38;5;241m1\u001b[39m)\n\u001b[0;32m      5\u001b[0m         \u001b[38;5;28;01mif\u001b[39;00m x_times \u001b[38;5;241m>\u001b[39m \u001b[38;5;241m1\u001b[39m:\n",
      "\u001b[1;31mNameError\u001b[0m: name 'WeatherScript' is not defined"
     ]
    }
   ],
   "source": [
    "run_at_time()"
   ]
  }
 ],
 "metadata": {
  "kernelspec": {
   "display_name": "Python 3",
   "language": "python",
   "name": "python3"
  },
  "language_info": {
   "codemirror_mode": {
    "name": "ipython",
    "version": 3
   },
   "file_extension": ".py",
   "mimetype": "text/x-python",
   "name": "python",
   "nbconvert_exporter": "python",
   "pygments_lexer": "ipython3",
   "version": "3.12.3"
  }
 },
 "nbformat": 4,
 "nbformat_minor": 2
}
